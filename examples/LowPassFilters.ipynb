{
 "cells": [
  {
   "cell_type": "markdown",
   "id": "37839c2d",
   "metadata": {},
   "source": [
    "# Low Pass Filters\n",
    "\n",
    "This example shows how low pass filters can remove noise from a signal. Here we are adding Gaussian noise to an audio signal and then smoothing it with a low pass filter to try to remove the noise. Testing the moving average and exponential average filters. As you can see, they reduce the noise, but don't remove it completely. Try playing with the parameters to the two filters (size $M$ for moving average, and gain $g$ for exponential average). More aggressive smoothing will reduce the noise further, but at the cost of more muddled notes in the music."
   ]
  },
  {
   "cell_type": "code",
   "execution_count": null,
   "id": "c7a47e78",
   "metadata": {},
   "outputs": [],
   "source": [
    "import numpy as np\n",
    "import matplotlib.pyplot as plt\n",
    "import wave\n",
    "from IPython.display import Audio"
   ]
  },
  {
   "cell_type": "code",
   "execution_count": null,
   "id": "7e0931a5",
   "metadata": {},
   "outputs": [],
   "source": [
    "# This code reads in the wav file as a numpy array\n",
    "bach_file = wave.open(\"bach.wav\")\n",
    "nframes = bach_file.getnframes()\n",
    "bach_signal = np.frombuffer(bach_file.readframes(nframes), dtype = np.int16)\n",
    "\n",
    "# Converting the signal values to float for better numerical processing\n",
    "bach_signal = bach_signal.astype(float)\n",
    "\n",
    "# The frame rate, or sampling rate, in Hz\n",
    "bach_framerate = bach_file.getframerate()\n",
    "\n",
    "# Play the audio interactively in the notebook\n",
    "print(\"Original Audio:\")\n",
    "Audio(data = bach_signal, rate = bach_framerate)"
   ]
  },
  {
   "cell_type": "markdown",
   "id": "ae37fb13",
   "metadata": {},
   "source": [
    "## Filter Implementations"
   ]
  },
  {
   "cell_type": "code",
   "execution_count": null,
   "id": "3cf0e3a1",
   "metadata": {},
   "outputs": [],
   "source": [
    "def mov_ave(x, M):\n",
    "    h = np.ones(M) / M\n",
    "    return np.convolve(x, h)"
   ]
  },
  {
   "cell_type": "code",
   "execution_count": null,
   "id": "ecc89969",
   "metadata": {},
   "outputs": [],
   "source": [
    "def exp_ave(x, g):\n",
    "    y = np.zeros_like(x)\n",
    "    for i in range(1, len(x)):\n",
    "        y[i] = (1 - g) * x[i] + g * y[i - 1]\n",
    "    return y"
   ]
  },
  {
   "cell_type": "markdown",
   "id": "243974d4",
   "metadata": {},
   "source": [
    "## Noisy Audio"
   ]
  },
  {
   "cell_type": "code",
   "execution_count": null,
   "id": "ed23e00f",
   "metadata": {},
   "outputs": [],
   "source": [
    "noisy = bach_signal + np.random.normal(0, 500, size = len(bach_signal))\n",
    "print(\"Noisy Audio:\")\n",
    "Audio(data = noisy, rate = bach_framerate)"
   ]
  },
  {
   "cell_type": "markdown",
   "id": "7f4a4f3e",
   "metadata": {},
   "source": [
    "## Moving Average"
   ]
  },
  {
   "cell_type": "code",
   "execution_count": null,
   "id": "2edbc2b0",
   "metadata": {},
   "outputs": [],
   "source": [
    "ma_output = mov_ave(noisy, 20)\n",
    "print(\"Moving Average Filtered Audio (M = 20):\")\n",
    "Audio(data = ma_output, rate = bach_framerate)"
   ]
  },
  {
   "cell_type": "code",
   "execution_count": null,
   "id": "e9ce1c9d",
   "metadata": {},
   "outputs": [],
   "source": [
    "ma_output = mov_ave(noisy, 40)\n",
    "print(\"Moving Average Filtered Audio (M = 40):\")\n",
    "Audio(data = ma_output, rate = bach_framerate)"
   ]
  },
  {
   "cell_type": "code",
   "execution_count": null,
   "id": "bf38d1d5",
   "metadata": {},
   "outputs": [],
   "source": [
    "ma_output = mov_ave(noisy, 100)\n",
    "print(\"Moving Average Filtered Audio (M = 20):\")\n",
    "Audio(data = ma_output, rate = bach_framerate)"
   ]
  },
  {
   "cell_type": "markdown",
   "id": "c44d67aa",
   "metadata": {},
   "source": [
    "## Exponential Average"
   ]
  },
  {
   "cell_type": "code",
   "execution_count": null,
   "id": "90c66719",
   "metadata": {},
   "outputs": [],
   "source": [
    "exp_output = exp_ave(noisy, 0.9)\n",
    "print(\"Exponential Filtered Audio:\")\n",
    "Audio(data = exp_output, rate = bach_framerate)"
   ]
  },
  {
   "cell_type": "code",
   "execution_count": null,
   "id": "77f68a43",
   "metadata": {},
   "outputs": [],
   "source": [
    "exp_output = exp_ave(noisy, 0.99)\n",
    "print(\"Exponential Filtered Audio:\")\n",
    "Audio(data = exp_output, rate = bach_framerate)"
   ]
  },
  {
   "cell_type": "code",
   "execution_count": null,
   "id": "dd93c150",
   "metadata": {},
   "outputs": [],
   "source": [
    "exp_output = exp_ave(noisy, 0.999)\n",
    "print(\"Exponential Filtered Audio:\")\n",
    "Audio(data = exp_output, rate = bach_framerate)"
   ]
  }
 ],
 "metadata": {
  "kernelspec": {
   "display_name": "Python 3 (ipykernel)",
   "language": "python",
   "name": "python3"
  },
  "language_info": {
   "codemirror_mode": {
    "name": "ipython",
    "version": 3
   },
   "file_extension": ".py",
   "mimetype": "text/x-python",
   "name": "python",
   "nbconvert_exporter": "python",
   "pygments_lexer": "ipython3",
   "version": "3.10.6"
  }
 },
 "nbformat": 4,
 "nbformat_minor": 5
}
