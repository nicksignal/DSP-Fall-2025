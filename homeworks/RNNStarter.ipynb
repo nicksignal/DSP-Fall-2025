{
 "cells": [
  {
   "cell_type": "markdown",
   "id": "e9ad815d",
   "metadata": {},
   "source": [
    "# RNN Starter Code\n"
   ]
  },
  {
   "cell_type": "code",
   "execution_count": null,
   "id": "2384c628",
   "metadata": {},
   "outputs": [],
   "source": [
    "import numpy as np\n",
    "import pandas\n",
    "from sklearn import preprocessing\n",
    "import torch\n",
    "import torch.nn as nn\n",
    "import torch.nn.functional as F"
   ]
  },
  {
   "cell_type": "markdown",
   "id": "fd336215",
   "metadata": {},
   "source": [
    "## Read in the Charlottesville weather data"
   ]
  },
  {
   "cell_type": "code",
   "execution_count": null,
   "id": "0c09ae42",
   "metadata": {},
   "outputs": [],
   "source": [
    "df = pandas.read_csv(\"cho_weather.csv\")\n",
    "data = df.to_numpy()[:, 2:9]\n",
    "print(data)"
   ]
  },
  {
   "cell_type": "code",
   "execution_count": null,
   "id": "4bf20e80",
   "metadata": {},
   "outputs": [],
   "source": [
    "for j in range(data.shape[1]):\n",
    "    for i in range(data.shape[0]):\n",
    "        if data[i, j] == \"M\":\n",
    "            data[i, j] = data[i - 1, j]\n",
    "        elif data[i, j] == \"T\":\n",
    "            data[i, j] = 0.0\n",
    "            \n",
    "data = np.float32(data)\n",
    "\n",
    "N = data.shape[0]\n",
    "print(data)"
   ]
  },
  {
   "cell_type": "code",
   "execution_count": null,
   "id": "4eea6673",
   "metadata": {},
   "outputs": [],
   "source": [
    "## The following code scales the data to be in the range [0,1], which can be helpful for neural networks\n",
    "## We need to make sure to \"unscale\" our predictions for final results!\n",
    "scaler = preprocessing.MinMaxScaler(feature_range = (0, 1))\n",
    "data_scaled = scaler.fit_transform(data)"
   ]
  },
  {
   "cell_type": "markdown",
   "id": "eb1f4179",
   "metadata": {},
   "source": [
    "## Linear prediction model"
   ]
  },
  {
   "cell_type": "code",
   "execution_count": null,
   "id": "8812906c",
   "metadata": {},
   "outputs": [],
   "source": [
    "class LinearPredictor(nn.Module):\n",
    "    def __init__(self, window_size, x_size = 1, y_size = 1):\n",
    "        super(LinearPredictor, self).__init__()\n",
    "        self.y_size = y_size\n",
    "        self.window_size = window_size\n",
    "        self.x_size = x_size\n",
    "        self.linear = nn.Linear(window_size * x_size, 1)\n",
    "\n",
    "    ## Here h is a dummy hidden variable, just to make this call the same as an RNN\n",
    "    def forward(self, x, h):\n",
    "        y = self.linear(x.reshape(1, self.window_size * self.x_size))\n",
    "        return y.reshape(self.y_size), h"
   ]
  },
  {
   "cell_type": "markdown",
   "id": "23aa5414",
   "metadata": {},
   "source": [
    "## RNN model"
   ]
  },
  {
   "cell_type": "code",
   "execution_count": null,
   "id": "b3824d6d",
   "metadata": {},
   "outputs": [],
   "source": [
    "class RNN(nn.Module):\n",
    "    def __init__(self, x_size, h_size, y_size):\n",
    "        super(RNN, self).__init__()\n",
    "\n",
    "        self.y_size = y_size\n",
    "\n",
    "        self.x2h = nn.Linear(x_size, h_size)\n",
    "        self.h2h = nn.Linear(h_size, h_size)\n",
    "        self.h2y = nn.Linear(h_size, y_size)\n",
    "\n",
    "    def forward(self, x, h):\n",
    "        y = torch.zeros(self.y_size)\n",
    "        for i in range(x.shape[0]):\n",
    "            h = F.tanh(self.x2h(x[i]) + self.h2h(h))\n",
    "            y = self.h2y(h) + x[i, 0]\n",
    "            ## You might try replacing the line above with the following, which does not do the +x[i,0] (skip connection)\n",
    "            ## y = self.h2y(h)\n",
    "        return y.reshape(self.y_size), h"
   ]
  },
  {
   "cell_type": "markdown",
   "id": "1e4de799",
   "metadata": {},
   "source": [
    "## Training routine, works for LinearPredictor or RNN as the model"
   ]
  },
  {
   "cell_type": "code",
   "execution_count": null,
   "id": "4d4f826f",
   "metadata": {},
   "outputs": [],
   "source": [
    "def train(targets, x, model, window_size, optimizer, num_epochs, criterion, h_size = 1, scale_factor = 1):\n",
    "    N = x.shape[0]\n",
    "\n",
    "    for epoch in range(num_epochs):\n",
    "        total_loss = 0.0\n",
    "        for i in range(window_size, N):\n",
    "            model.zero_grad()\n",
    "            \n",
    "            h = torch.zeros(1, h_size)\n",
    "            y, h = model(x[(i - window_size):i], h)\n",
    "\n",
    "            loss = criterion(y, targets[i])\n",
    "            loss.backward()\n",
    "\n",
    "            optimizer.step()\n",
    "            \n",
    "            total_loss += loss.detach()\n",
    "\n",
    "        # convert to mean loss\n",
    "        total_loss = total_loss / (N - window_size)\n",
    "\n",
    "        # \"scale_factor\" is the amount we scaled the data to be [0,1], we need to undo this here\n",
    "        print(epoch, \": Training Loss = \", total_loss.item() / scale_factor)"
   ]
  },
  {
   "cell_type": "markdown",
   "id": "0f2ffe9b",
   "metadata": {},
   "source": [
    "## Running the training"
   ]
  },
  {
   "cell_type": "code",
   "execution_count": null,
   "id": "b8ac3cf6",
   "metadata": {
    "scrolled": false
   },
   "outputs": [],
   "source": [
    "# Pull out the temperature time series\n",
    "# You might change the x inputs to include other weather variables\n",
    "temps = data_scaled[:, 0].reshape(data_scaled.shape[0], 1)\n",
    "x_size = 1\n",
    "y_size = 1\n",
    "\n",
    "### SET YOUR PARAMETERS HERE! ####\n",
    "###\n",
    "# learning_rate = ...\n",
    "# num_epochs = ...\n",
    "# window_size = ...\n",
    "# h_size = ...\n",
    "\n",
    "# model = RNN(x_size, h_size, y_size)\n",
    "### OR ###\n",
    "# model = LinearPredictor(window_size)\n",
    "\n",
    "# Set up your loss function (MAE)\n",
    "criterion = nn.L1Loss()\n",
    "\n",
    "# Set up a gradient descent optimizer\n",
    "# You might also try \"SGD\" instead of \"Adam\"\n",
    "optimizer = torch.optim.Adam(model.parameters(), lr = learning_rate)\n",
    "\n",
    "# Define inputs and targets\n",
    "# You should define \"start\" and \"end\" of the training data\n",
    "# \"offset\" is how far in the future you want to predict (prediction will be (offset + 1) timepoints in the future)\n",
    "# start = ...\n",
    "# end = ...\n",
    "# offset = ...\n",
    "L = end - start\n",
    "x = torch.Tensor(temps[start:end]).reshape(L, x_size)\n",
    "targets = torch.Tensor(temps[(start + offset):(end + offset)]).reshape(L, 1)\n",
    "\n",
    "out_y = train(targets, x, model, window_size, optimizer, num_epochs, criterion, h_size, scaler.scale_[0])"
   ]
  },
  {
   "cell_type": "markdown",
   "id": "bc7c1108",
   "metadata": {},
   "source": [
    "## Testing the model\n",
    "\n",
    "The following code computes the loss on the test data (the final year of temperatures). **Make sure that you don't include the test data in your training!**"
   ]
  },
  {
   "cell_type": "code",
   "execution_count": null,
   "id": "5dd9547d",
   "metadata": {},
   "outputs": [],
   "source": [
    "def test(model, inputs, window_size, h_size, scale_fact):\n",
    "    N = inputs.shape[0]\n",
    "    x_size = inputs.shape[1]\n",
    "\n",
    "    model = model.eval()\n",
    "\n",
    "    start = N - offset - 1 - 8760\n",
    "    end = N - offset - 1\n",
    "\n",
    "    L = end - start\n",
    "\n",
    "    x = torch.Tensor(inputs[start:end]).reshape(L, x_size)\n",
    "    targets = torch.Tensor(inputs[(start + offset):(end + offset), 0])\n",
    "    y = torch.zeros(L)\n",
    "\n",
    "    total_loss = 0.0\n",
    "    with torch.no_grad():\n",
    "        for i in range(window_size, L):\n",
    "            h = torch.zeros(1, h_size)\n",
    "            y[i], h = model(x[(i - window_size):i, :], h)\n",
    "\n",
    "            loss = criterion(y[i], targets[i])\n",
    "            total_loss += loss.detach()\n",
    "\n",
    "    total_loss = total_loss.item() / (L - window_size) / scale_fact\n",
    "    return total_loss"
   ]
  },
  {
   "cell_type": "code",
   "execution_count": null,
   "id": "24c76630",
   "metadata": {},
   "outputs": [],
   "source": [
    "print(\"MAE on the test data =\", test(model, temps, window_size, h_size, scaler.scale_[0]))"
   ]
  },
  {
   "cell_type": "markdown",
   "id": "232a9ae0",
   "metadata": {},
   "source": [
    "## Saving and Loading Trained Models"
   ]
  },
  {
   "cell_type": "code",
   "execution_count": null,
   "id": "b19933ea",
   "metadata": {},
   "outputs": [],
   "source": [
    "# Here is how you save a trained model.\n",
    "torch.save(model.state_dict(), \"your_filename_here.pt\")"
   ]
  },
  {
   "cell_type": "code",
   "execution_count": null,
   "id": "bf73687b",
   "metadata": {},
   "outputs": [],
   "source": [
    "# And here is how you would load such a saved model\n",
    "# Make sure you can reload the model and that it gives the same test results that you expect!\n",
    "# You have to call the same model creation code \"LinearPredictor\" or \"RNN\" to create the model first\n",
    "model = LinearPredictor(window_size)\n",
    "model.load_state_dict(torch.load(\"your_filename_here.pt\"))"
   ]
  }
 ],
 "metadata": {
  "kernelspec": {
   "display_name": "Python 3 (ipykernel)",
   "language": "python",
   "name": "python3"
  },
  "language_info": {
   "codemirror_mode": {
    "name": "ipython",
    "version": 3
   },
   "file_extension": ".py",
   "mimetype": "text/x-python",
   "name": "python",
   "nbconvert_exporter": "python",
   "pygments_lexer": "ipython3",
   "version": "3.10.12"
  }
 },
 "nbformat": 4,
 "nbformat_minor": 5
}
