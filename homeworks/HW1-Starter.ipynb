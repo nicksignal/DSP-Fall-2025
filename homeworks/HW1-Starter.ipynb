{
 "cells": [
  {
   "cell_type": "markdown",
   "id": "0bdece20",
   "metadata": {},
   "source": [
    "# HW 1 Starter\n",
    "\n",
    "Here is a skeleton Jupyter notebook to get you started with the homework. Mainly, it has the questions repeated so that you have examples of how the math is formatted. Feel free to use this outline, but it is not required - you can use your own format!"
   ]
  },
  {
   "cell_type": "markdown",
   "id": "25df268c",
   "metadata": {},
   "source": [
    "## Question 1:\n",
    "\n",
    "What is the period of the signal\n",
    "$$x[n] = \\sin\\left(\\frac{2 \\pi Mn}{N}\\right),$$\n",
    "for the following values:\n",
    "\n",
    "**(a)** $M = 25, N = 35$\n",
    "\n",
    "**(b)** $M = 7, N = 13$\n",
    "\n",
    "**(c)** $M = 21, N = 3$"
   ]
  },
  {
   "cell_type": "markdown",
   "id": "11d097cd",
   "metadata": {},
   "source": [
    "## Answer:\n",
    "\n",
    "## (a)\n",
    "\n",
    "## (b) \n",
    "\n",
    "## (c)\n"
   ]
  },
  {
   "cell_type": "markdown",
   "id": "27df8daa",
   "metadata": {},
   "source": [
    "## Question 2:\n",
    "\n",
    "Consider the signal\n",
    "$$x[n] = 2\\delta[n] - \\delta[n - 1] + 3\\delta[n - 2],$$\n",
    "\n",
    "and its moving average\n",
    "$$y[n] = \\frac{1}{2}(x[n] + x[n - 1]).$$\n",
    "\n",
    "Write $y[n]$ in terms of scaled and shifted impulses ($\\delta[n]$)."
   ]
  },
  {
   "cell_type": "markdown",
   "id": "6d2389cf",
   "metadata": {},
   "source": [
    "## Answer:\n",
    "\n",
    "Here is an example of how to format an answer with step-by-step math equations:\n",
    "\n",
    "$$\n",
    "\\begin{aligned}\n",
    "y[n] &= \\frac{1}{2}(x[n] + x[n - 1]) & \\text{Definition of moving average}\\\\\n",
    "&= \\cdots & \\text{Explain this step here!}\\\\\n",
    "&= \\cdots & \\text{Explain this step here!}\\\\\n",
    "\\end{aligned}\n",
    "$$"
   ]
  },
  {
   "cell_type": "markdown",
   "id": "da4c8b11",
   "metadata": {},
   "source": [
    "## Question 3:\n",
    "\n",
    "Compute the following complex numbers, and write them both in standard form ($a + bi$) and Euler notation ($re^{i\\theta}$). **You may use Python to check your answers, but do the math by hand, and show your steps (this is good practice for in-class tests).**\n",
    "\n",
    "**(a)** $(-1 + i)^2$\n",
    "\n",
    "**(b)** $e^{\\frac{i \\pi}{3}} \\left(1 + \\frac{1}{2} i\\right)$\n",
    "\n",
    "**(c)** $\\sqrt{e^{\\frac{i \\pi}{2}}}$"
   ]
  },
  {
   "cell_type": "markdown",
   "id": "c072d150",
   "metadata": {},
   "source": [
    "## Answer:"
   ]
  },
  {
   "cell_type": "markdown",
   "id": "bd9a8e5f",
   "metadata": {},
   "source": [
    "## Question 4:\n",
    "\n",
    "Determine if each of the following systems is (1) stable, (2) causal, (3) linear, and (4) time invariant. Note: a system may have multiple of these properties. **Briefly explain why each property does or does not hold.**\n",
    "\n",
    "**(a)** $T\\{x[n]\\} = x[n^3]$\n",
    "\n",
    "**(b)** $T\\{x[n]\\} = e^{i\\pi n} x[n]$\n",
    "\n",
    "**(c)** $T\\{x[n]\\} = \\sum_{k = n - 1}^\\infty x[k]$\n",
    "\n",
    "**(d)** $T\\{x[n]\\} = \\sum_{k = n}^\\infty \\delta[n - k]$"
   ]
  },
  {
   "cell_type": "markdown",
   "id": "068a8125",
   "metadata": {},
   "source": [
    "## Answer:\n",
    "\n",
    "## (a)\n",
    "\n",
    "**(1) Yes, it is stable. OR No, it is not stable.**\n",
    "\n",
    "Explanation here!\n",
    "\n",
    "**(2) Yes, it is causal. OR No, it is not causal.**\n",
    "\n",
    "Explanation here!\n",
    "\n",
    "etc."
   ]
  },
  {
   "cell_type": "markdown",
   "id": "ce4ba58e",
   "metadata": {},
   "source": [
    "## Question 5:\n",
    "\n",
    "* **(a)** Write out equations for both the FFCF and FBCF systems.\n",
    "\n",
    "* **(b)** Are these both LTI systems? Briefly explain why or why not.\n",
    "\n",
    "* **(c)** Implement both the FFCF and FBCF systems as Python functions. Each of your functions should take three parameters: (1) the input signal $x[n]$ (i.e., a `numpy` array of any length), (2) the delay $N > 0$, and (3) the {\\em gain}, $g \\in \\mathbb{R}$. Each should return the output signal for that system, $y[n]$.\n",
    "\n",
    "* **(d)** Run both of your systems on the signal `woodchuck.wav` with a delay of 100ms and a gain of 0.75. Note: you will have to convert the delay from milliseconds to number of samples, $N$. Play the resulting output audio signal and describe what you hear. What are the differences between the resulting sounds from the FFCF and FBCF outputs? (Just looking for your qualitative observations.)\n",
    "\n",
    "* **(e)** Now run both systems on the same `woodchuck.wav` with the same delay, but now set the gain to 1.0. What changed? Explain what is different about the FFCF and the FBCF that causes them to behave so differently in this case.\n",
    "\n",
    "* **(f)** Now apply four FBCF filters in parallel and sum the resulting four outputs together to get the final output. That is, build the following system:\n",
    "$$y[n] = \\mathrm{FBCF}_1\\{x[n]\\} + \\mathrm{FBCF}_2\\{x[n]\\} + \\mathrm{FBCF}_3\\{x[n]\\} + \\mathrm{FBCF}_4\\{x[n]\\}.$$\n",
    "The individual FFCF systems should have the following parameters:\n",
    "\n",
    "    System           | Delay | Gain\n",
    "    :--------------- | ----- | -----\n",
    "    $\\mathrm{FBCF}_1$| 100ms | 0.75\n",
    "    $\\mathrm{FBCF}_2$| 90ms  | 0.8\n",
    "    $\\mathrm{FBCF}_3$| 120ms | 0.77\n",
    "    $\\mathrm{FBCF}_4$| 110ms | 0.73\n",
    "\n",
    "    Describe what you are hearing. How is it different from the single FBCF output from part (d)? (again, qualitative!)\n",
    "\n",
    "* **(g)** Construct a signal in Python representing the unit impulse function, $\\delta[n]$. Your signal should range from $n = -10, \\ldots, 10$. Plot this signal as a stem plot.\n",
    "\n",
    "* **(h)** Run your unit impulse function through each of your two systems, FFCF and FBCF, to get the impulse response $h[n]$ for each system. Use the same parameters, delay = 100ms and gain = 0.75. Plot $h[n]$ for each system. Now repeat these plots of $h[n]$ for both systems, but changing the gain to 1.0. What properties of these two impulse responses might lead to the different behavior of the FFCF and FBCF systems that you observed above? {\\bf Update:} Consider the sampling rate of your impulse from (g) to be 10 Hz. Alternatively, you can use an impulse with same sampling rate and signal length as the `woodchuck.wav` signal.\n",
    "\n",
    "* **(i)** Write a Python function to convolve two signals. Your function should take two input signals $x[n]$ and $h[n]$ and return the convolution signal $(x * h)[n]$. Do not use `numpy.convolve` or other Python library that implements convolution---do it yourself with basic operations. You should zero pad, that is, when your index into an array goes out of bounds during the computation, just consider the value for that array to be zero. ({\\bf Hint:} You will want to avoid using two nested `for` loops to do this. You may consider using a numpy function, for example, `sum` or `dot`, to do the summation in the convolution equation.)\n",
    "\n",
    "* **(j)** Create another unit impulse, now with length equal to the `woodchuck.wav` signal. Compute the corresponding impulse response, $h[n]$, for the FBCF system with delay = 100ms, gain = 0.75. Now use your convolve function to convolve `woodchuck.wav` with $h[n]$. Play the audio---does it match what you heard in part (d)?"
   ]
  }
 ],
 "metadata": {
  "kernelspec": {
   "display_name": "Python 3 (ipykernel)",
   "language": "python",
   "name": "python3"
  },
  "language_info": {
   "codemirror_mode": {
    "name": "ipython",
    "version": 3
   },
   "file_extension": ".py",
   "mimetype": "text/x-python",
   "name": "python",
   "nbconvert_exporter": "python",
   "pygments_lexer": "ipython3",
   "version": "3.10.12"
  }
 },
 "nbformat": 4,
 "nbformat_minor": 5
}
