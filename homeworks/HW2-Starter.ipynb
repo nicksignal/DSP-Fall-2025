{
 "cells": [
  {
   "cell_type": "markdown",
   "id": "0bdece20",
   "metadata": {},
   "source": [
    "# HW 2 Starter\n",
    "\n",
    "Here is a skeleton Jupyter notebook to get you started with the homework. Mainly, it has the questions repeated so that you have examples of how the math is formatted. Feel free to use this outline, but it is not required - you can use your own format!"
   ]
  },
  {
   "cell_type": "markdown",
   "id": "3c4df21c",
   "metadata": {},
   "source": [
    "## DFT Audio Signal Analysis\n",
    "\n",
    "You will be using the fast Fourier transform (FFT) to analyze two audio signals. These are a clip of a person speaking (``winniethepooh.wav`` : Chapter 5 of A. A. Milne's classic, *Winnie the Pooh*, read by Phil Chenevert, audio from LibriVox: https://librivox.org/winnie-the-pooh-by-a-a-milne/) and a clip of piano music (``bach.wav`` : J. S. Bach's *Two Part Invention Number 13 in A Minor*). Download these files from the class webpage.\n"
   ]
  },
  {
   "cell_type": "markdown",
   "id": "27df8daa",
   "metadata": {},
   "source": [
    "## Question 1:\n",
    "\n",
    "The frequency band for voice used in telephones is approximately 300 to 3400 Hz. (https://en.wikipedia.org/wiki/Voice_frequency). To simulate this, take the FFT of the voice audio signal and apply a bandpass filter in the voice frequency range. That is, set the $Y[k] = w[k] X[k]$, where $w[k]$ is set to one for frequencies in the 300--3400 Hz range and set to zero elsewhere. **Note:** you will need to first calculate the conversion of the frequency parameter $k$ into Hz. Take the inverse FFT and listen to the resulting audio."
   ]
  },
  {
   "cell_type": "markdown",
   "id": "6d2389cf",
   "metadata": {},
   "source": [
    "## Answer:"
   ]
  },
  {
   "cell_type": "code",
   "execution_count": null,
   "id": "8444ce64",
   "metadata": {},
   "outputs": [],
   "source": []
  },
  {
   "cell_type": "markdown",
   "id": "da4c8b11",
   "metadata": {},
   "source": [
    "## Question 2:\n",
    "\n",
    "According to the same Wikipedia page, the fundamental frequency of a male speaking voice is between 85 to 155 Hz. Apply the same bandpass filter procedure as above, but with the frequency range of 85--310 Hz. (We have to double the upper limit of the frequency range to avoid aliasing. This is due to what is called the Nyquist-Shannon theorem, which we'll cover later in class!) Again, listen to the resulting audio. Is the speech still understandable when keeping only the fundamental frequencies, or were the harmonic overtones important contributions?"
   ]
  },
  {
   "cell_type": "markdown",
   "id": "c072d150",
   "metadata": {},
   "source": [
    "## Answer:"
   ]
  },
  {
   "cell_type": "code",
   "execution_count": null,
   "id": "748d7ba3",
   "metadata": {},
   "outputs": [],
   "source": []
  },
  {
   "cell_type": "markdown",
   "id": "bd9a8e5f",
   "metadata": {},
   "source": [
    "## Question 3:\n",
    "\n",
    "Now compute an FFT of the piano music signal. Plot the magnitude of the FFT, $|X[k]|$, as a function of frequency in Hz. What are the 3 most prominent frequencies in Hz (a.k.a., what is the position on the frequency axis of the three highest peaks in the plot)? Refer to the following table of musical note frequencies:\n",
    "\n",
    "https://en.wikipedia.org/wiki/Scientific_pitch_notation#Table_of_note_frequencies\n",
    "\n",
    "What musical notes do these frequencies represent? Give the note letter and octave number, for example, 440 Hz is the note A4. **Hint: They may not be the notes you are expecting for a piece in the key of A minor!**"
   ]
  },
  {
   "cell_type": "markdown",
   "id": "068a8125",
   "metadata": {},
   "source": [
    "## Answer:"
   ]
  },
  {
   "cell_type": "code",
   "execution_count": null,
   "id": "39a29e5e",
   "metadata": {},
   "outputs": [],
   "source": []
  },
  {
   "cell_type": "markdown",
   "id": "38698a6b",
   "metadata": {},
   "source": [
    "## DFT Exercises"
   ]
  },
  {
   "cell_type": "markdown",
   "id": "ce4ba58e",
   "metadata": {},
   "source": [
    "## Question 4:\n",
    "\n",
    "Consider the following periodic signal, with period $L$:\n",
    "\n",
    "  $$x[n] = \\frac{1}{2}(\\delta[n - 1] - \\delta[n - L + 1]), \\quad \\quad \\text{for $0 \\leq n \\leq L - 1$}.$$\n",
    "\n",
    "* **(a)** Using the definition of the DFT analysis equation, compute $X[k]$. Simplify your equation until it is clear that $X[k]$ is imaginary (in the form of $i$ times a real number). **Show your steps.**\n",
    "\n",
    "* **(b)** Now compute the DFT $X[k]$ by starting with a DFT pair we discussed in class and applying properties of the DFT. Confirm that it is equal to the answer you got in part (a). **Again, show your steps.**\n",
    "\n",
    "* **(c)** In Python, construct the signal $x[n]$ for $L = 10$. Compute the DFT using the ``numpy.fft.fft`` function. Plot the resulting $X[k]$ and compare it to a plot of your equation in part (a)."
   ]
  },
  {
   "cell_type": "markdown",
   "id": "dde262bc",
   "metadata": {},
   "source": [
    "## Answer:\n",
    "\n",
    "## (a)\n",
    "\n",
    "## (b) \n",
    "\n",
    "## (c)"
   ]
  },
  {
   "cell_type": "code",
   "execution_count": null,
   "id": "2dfa599d",
   "metadata": {},
   "outputs": [],
   "source": []
  },
  {
   "cell_type": "markdown",
   "id": "d331daf9",
   "metadata": {},
   "source": [
    "## Question 5:\n",
    "\n",
    "Consider the following periodic signal, with period $L$ being an **even number**:\n",
    "\n",
    "  $$x[n] = \\begin{cases} 1 & \\text{for $n$ even,}\\\\ -1 & \\text{for $n$ odd.}\\end{cases}$$\n",
    "\n",
    "* **(a)** Write an equation for $X[k] = \\mathcal{DFT}\\{x[n]\\}$. Simplify your equation until it is clear that $X[k]$ is real-valued. **Show your steps.**\n",
    "\n",
    "* **(b)** In Python, construct the signal for $L = 10$. Compute the DFT using ``numpy.fft.fft`` function. Plot the resulting $X[k]$ and compare it to the plot of your equation in part (a)."
   ]
  },
  {
   "cell_type": "markdown",
   "id": "fddf60e3",
   "metadata": {},
   "source": [
    "## Answer:\n",
    "\n",
    "## (a)\n",
    "\n",
    "## (b) "
   ]
  },
  {
   "cell_type": "code",
   "execution_count": null,
   "id": "10ab34c5",
   "metadata": {},
   "outputs": [],
   "source": []
  },
  {
   "cell_type": "markdown",
   "id": "d2b1b030",
   "metadata": {},
   "source": [
    "# For Grads Only (or Extra Credit for Undergrads)\n",
    "\n",
    "# Question 6:\n",
    "\n",
    "Consider the following periodic signal, with period $L$ being an **even number**:\n",
    "\n",
    "$$x[n] = \\begin{cases} \\cos\\left(\\frac{2\\pi n}{L}\\right) & \\text{for $n$ even,}\\\\ -\\cos\\left(\\frac{2\\pi n}{L}\\right) & \\text{for $n$ odd.} \\end{cases}$$\n",
    "\n",
    "* **(a)** Write an equation for $X[k] = \\mathcal{DFT}\\{x[n]\\}$. Simplify your equation until it is clear that $X[k]$ is real-valued. {\\bf Show your steps.}\n",
    "\n",
    "* **(b)** In Python, construct the signal $x[n]$ for $L = 40$. Compute the DFT using the ``numpy.fft.fft`` function. Plot the resulting $X[k]$ and compare it to a plot of your equation in part (a)."
   ]
  },
  {
   "cell_type": "markdown",
   "id": "f395c28f",
   "metadata": {},
   "source": [
    "## Answer:\n",
    "\n",
    "## (a)\n",
    "\n",
    "## (b) "
   ]
  },
  {
   "cell_type": "code",
   "execution_count": null,
   "id": "c1c3b97d",
   "metadata": {},
   "outputs": [],
   "source": []
  }
 ],
 "metadata": {
  "kernelspec": {
   "display_name": "Python 3 (ipykernel)",
   "language": "python",
   "name": "python3"
  },
  "language_info": {
   "codemirror_mode": {
    "name": "ipython",
    "version": 3
   },
   "file_extension": ".py",
   "mimetype": "text/x-python",
   "name": "python",
   "nbconvert_exporter": "python",
   "pygments_lexer": "ipython3",
   "version": "3.10.12"
  }
 },
 "nbformat": 4,
 "nbformat_minor": 5
}
